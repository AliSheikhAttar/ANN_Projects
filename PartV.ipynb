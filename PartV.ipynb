{
  "cells": [
    {
      "cell_type": "code",
      "execution_count": 25,
      "metadata": {
        "id": "48AhMIIAmUSs"
      },
      "outputs": [],
      "source": [
        "from keras.models import Sequential\n",
        "from keras.layers import Dense, Conv2D, MaxPool2D, Flatten, Dropout\n",
        "from tensorflow.keras.optimizers import RMSprop, Adam\n",
        "from tensorflow.keras.preprocessing.image import ImageDataGenerator\n",
        "from keras.layers import Dense, Input\n",
        "from keras.models import Sequential\n",
        "from keras.datasets import mnist\n",
        "from keras.utils import to_categorical\n",
        "import cv2\n",
        "import numpy as np\n",
        "import matplotlib.pyplot as plt\n",
        "import os\n",
        "import zipfile\n",
        "from PIL import Image\n",
        "from numpy import array"
      ]
    },
    {
      "cell_type": "code",
      "execution_count": 2,
      "metadata": {
        "id": "fkMCrMCJ9H6V"
      },
      "outputs": [],
      "source": [
        "\n",
        "local_zip = '/content/USPS_images.zip'\n",
        "zip_ref = zipfile.ZipFile(local_zip, 'r')\n",
        "zip_ref.extractall('/content/trainntest')"
      ]
    },
    {
      "cell_type": "code",
      "execution_count": 55,
      "metadata": {
        "id": "qR4KE54KpYSQ"
      },
      "outputs": [],
      "source": [
        "train_dir = '/content/trainntest/train'\n",
        "validation_dir = '/content/trainntest/test'\n",
        "y_train = []\n",
        "y_test = []\n",
        "for path in os.listdir(train_dir):\n",
        "    if os.path.isfile(os.path.join(train_dir, path)):\n",
        "        y_train.append(int(path[0]))\n",
        "\n",
        "for path in os.listdir(validation_dir):\n",
        "  if os.path.isfile(os.path.join(validation_dir, path)):\n",
        "      y_test.append(int(path[0]))\n",
        "\n",
        "x_train = []\n",
        "for path in os.listdir(train_dir):\n",
        "  if os.path.isfile(os.path.join(train_dir,path)):\n",
        "    x_train.append(cv2.cvtColor(cv2.imread(f\"{train_dir}/{path}\"), cv2.COLOR_RGB2GRAY))\n",
        "\n",
        "x_test = []\n",
        "for path in os.listdir(validation_dir):\n",
        "  if os.path.isfile(os.path.join(validation_dir,path)):\n",
        "    x_test.append(cv2.cvtColor(cv2.imread(f\"{validation_dir}/{path}\"), cv2.COLOR_RGB2GRAY))"
      ]
    },
    {
      "cell_type": "code",
      "execution_count": 61,
      "metadata": {
        "colab": {
          "base_uri": "https://localhost:8080/"
        },
        "id": "7f2xIEF99HZi",
        "outputId": "bb09f035-6010-4e83-d9b4-16b4fffa815a"
      },
      "outputs": [
        {
          "name": "stdout",
          "output_type": "stream",
          "text": [
            "(7291, 10)\n",
            "(2007, 10)\n"
          ]
        }
      ],
      "source": [
        "x_train = np.array(x_train)\n",
        "x_test = np.array(x_test)\n",
        "\n",
        "num_classes = 10\n",
        "\n",
        "y_train_cat = to_categorical(y_train, num_classes)\n",
        "y_test_cat = to_categorical(y_test, num_classes)\n",
        "\n",
        "y_train_cat = np.array(y_train_cat)\n",
        "y_test_cat = np.array(y_test_cat)\n",
        "\n",
        "print(y_train_cat.shape)\n",
        "print(y_test_cat.shape)\n"
      ]
    },
    {
      "cell_type": "code",
      "execution_count": 64,
      "metadata": {
        "colab": {
          "base_uri": "https://localhost:8080/"
        },
        "id": "Rp--fppwQ8xj",
        "outputId": "d487f767-1bbe-49f3-fe63-3dad17ddfb9b"
      },
      "outputs": [
        {
          "name": "stdout",
          "output_type": "stream",
          "text": [
            "(7291, 16, 16)\n"
          ]
        }
      ],
      "source": [
        "print(x_train.shape)"
      ]
    },
    {
      "cell_type": "code",
      "execution_count": 65,
      "metadata": {
        "id": "a-AvvgENPmbm"
      },
      "outputs": [],
      "source": [
        "x_train_final = x_train.reshape(-1 ,16*16) / 255\n",
        "x_test_final = x_test.reshape(-1 ,16*16) / 255\n"
      ]
    },
    {
      "cell_type": "code",
      "execution_count": 66,
      "metadata": {
        "colab": {
          "base_uri": "https://localhost:8080/"
        },
        "id": "W-275QyLQJd1",
        "outputId": "46fadd10-c2bc-4946-ee00-48d1e2fcf1df"
      },
      "outputs": [
        {
          "data": {
            "text/plain": [
              "(7291, 256)"
            ]
          },
          "execution_count": 66,
          "metadata": {},
          "output_type": "execute_result"
        }
      ],
      "source": [
        "x_train_final.shape"
      ]
    },
    {
      "cell_type": "code",
      "execution_count": 69,
      "metadata": {
        "colab": {
          "base_uri": "https://localhost:8080/"
        },
        "id": "I_A2D-mmp71H",
        "outputId": "5b5ed8e1-0a3e-4eb4-9e1f-fb625028d195"
      },
      "outputs": [
        {
          "name": "stdout",
          "output_type": "stream",
          "text": [
            "(7291, 10)\n",
            "(2007, 10)\n",
            "5\n",
            "[0. 0. 0. 0. 0. 1. 0. 0. 0. 0.]\n"
          ]
        }
      ],
      "source": [
        "from keras.datasets import mnist\n",
        "import numpy as np\n",
        "import matplotlib.pyplot as plt\n",
        "\n",
        "\n",
        "from keras.utils import to_categorical\n",
        "num_classes = 10\n",
        "\n",
        "y_train_cat = to_categorical(y_train, num_classes)\n",
        "y_test_cat = to_categorical(y_test, num_classes)\n",
        "\n",
        "print(y_train_cat.shape)\n",
        "print(y_test_cat.shape)\n",
        "\n",
        "print(y_train[0]) # 5 >>>> [0,0,0,0,0,1,0,0,0,0]\n",
        "print(y_train_cat[0])\n",
        "\n",
        "from keras.layers import Dense, Input\n",
        "from keras.models import Sequential\n",
        "\n",
        "model = Sequential()\n",
        "model.add(Input(shape = (16*16)))\n",
        "model.add(Dense(20, activation = 'relu'))\n",
        "model.add(Dense(16, activation = 'relu'))\n",
        "model.add(Dense(16, activation = 'relu'))\n",
        "model.add(Dense(num_classes , activation = 'softmax'))\n",
        "\n",
        "model.compile(loss = 'categorical_crossentropy', optimizer = 'adam' , metrics = ['accuracy'])\n",
        "\n",
        "# model.summary()\n",
        "\n",
        "# # m * () * [()] >>>> (128, 784)\n",
        "\n",
        "# batch_size = 128\n",
        "# epochs = 30\n",
        "# model.fit(x_train_final, y_train_cat,\n",
        "#           batch_size= batch_size ,\n",
        "#           epochs=epochs, verbose= 1,\n",
        "#           validation_data=(x_test_final,y_test_cat))\n",
        "\n",
        "# # (60000,28,28,3)\n",
        "# # (Dog, Horse, Cat) >>>> [0,1,2]\n",
        "# # floor( (n + 2*p - f)/s + 1 )"
      ]
    },
    {
      "cell_type": "code",
      "execution_count": 70,
      "metadata": {
        "colab": {
          "base_uri": "https://localhost:8080/"
        },
        "id": "n2iyl5i1RiO0",
        "outputId": "2b622933-2a22-4ca6-c6ed-f8dfae12bf0a"
      },
      "outputs": [
        {
          "name": "stdout",
          "output_type": "stream",
          "text": [
            "Epoch 1/30\n",
            "57/57 [==============================] - 6s 8ms/step - loss: 1.8711 - accuracy: 0.3406 - val_loss: 1.3969 - val_accuracy: 0.5451\n",
            "Epoch 2/30\n",
            "57/57 [==============================] - 0s 4ms/step - loss: 0.9979 - accuracy: 0.7142 - val_loss: 0.8036 - val_accuracy: 0.7733\n",
            "Epoch 3/30\n",
            "57/57 [==============================] - 0s 4ms/step - loss: 0.5155 - accuracy: 0.8605 - val_loss: 0.5464 - val_accuracy: 0.8376\n",
            "Epoch 4/30\n",
            "57/57 [==============================] - 0s 5ms/step - loss: 0.3396 - accuracy: 0.9032 - val_loss: 0.4460 - val_accuracy: 0.8754\n",
            "Epoch 5/30\n",
            "57/57 [==============================] - 0s 4ms/step - loss: 0.2618 - accuracy: 0.9257 - val_loss: 0.4065 - val_accuracy: 0.8894\n",
            "Epoch 6/30\n",
            "57/57 [==============================] - 0s 5ms/step - loss: 0.2202 - accuracy: 0.9370 - val_loss: 0.3763 - val_accuracy: 0.9063\n",
            "Epoch 7/30\n",
            "57/57 [==============================] - 0s 4ms/step - loss: 0.1957 - accuracy: 0.9447 - val_loss: 0.3704 - val_accuracy: 0.9068\n",
            "Epoch 8/30\n",
            "57/57 [==============================] - 0s 4ms/step - loss: 0.1784 - accuracy: 0.9499 - val_loss: 0.3550 - val_accuracy: 0.9118\n",
            "Epoch 9/30\n",
            "57/57 [==============================] - 0s 4ms/step - loss: 0.1642 - accuracy: 0.9549 - val_loss: 0.3565 - val_accuracy: 0.9073\n",
            "Epoch 10/30\n",
            "57/57 [==============================] - 0s 5ms/step - loss: 0.1542 - accuracy: 0.9549 - val_loss: 0.3364 - val_accuracy: 0.9133\n",
            "Epoch 11/30\n",
            "57/57 [==============================] - 0s 4ms/step - loss: 0.1397 - accuracy: 0.9615 - val_loss: 0.3433 - val_accuracy: 0.9178\n",
            "Epoch 12/30\n",
            "57/57 [==============================] - 0s 4ms/step - loss: 0.1338 - accuracy: 0.9632 - val_loss: 0.3421 - val_accuracy: 0.9108\n",
            "Epoch 13/30\n",
            "57/57 [==============================] - 0s 4ms/step - loss: 0.1263 - accuracy: 0.9646 - val_loss: 0.3284 - val_accuracy: 0.9188\n",
            "Epoch 14/30\n",
            "57/57 [==============================] - 0s 4ms/step - loss: 0.1180 - accuracy: 0.9671 - val_loss: 0.3319 - val_accuracy: 0.9168\n",
            "Epoch 15/30\n",
            "57/57 [==============================] - 0s 5ms/step - loss: 0.1097 - accuracy: 0.9720 - val_loss: 0.3288 - val_accuracy: 0.9168\n",
            "Epoch 16/30\n",
            "57/57 [==============================] - 0s 4ms/step - loss: 0.1041 - accuracy: 0.9722 - val_loss: 0.3254 - val_accuracy: 0.9223\n",
            "Epoch 17/30\n",
            "57/57 [==============================] - 0s 4ms/step - loss: 0.0996 - accuracy: 0.9744 - val_loss: 0.3227 - val_accuracy: 0.9228\n",
            "Epoch 18/30\n",
            "57/57 [==============================] - 0s 4ms/step - loss: 0.0973 - accuracy: 0.9748 - val_loss: 0.3295 - val_accuracy: 0.9193\n",
            "Epoch 19/30\n",
            "57/57 [==============================] - 0s 4ms/step - loss: 0.0904 - accuracy: 0.9774 - val_loss: 0.3202 - val_accuracy: 0.9258\n",
            "Epoch 20/30\n",
            "57/57 [==============================] - 0s 4ms/step - loss: 0.0853 - accuracy: 0.9779 - val_loss: 0.3221 - val_accuracy: 0.9253\n",
            "Epoch 21/30\n",
            "57/57 [==============================] - 0s 4ms/step - loss: 0.0806 - accuracy: 0.9796 - val_loss: 0.3257 - val_accuracy: 0.9213\n",
            "Epoch 22/30\n",
            "57/57 [==============================] - 0s 5ms/step - loss: 0.0793 - accuracy: 0.9793 - val_loss: 0.3275 - val_accuracy: 0.9233\n",
            "Epoch 23/30\n",
            "57/57 [==============================] - 0s 5ms/step - loss: 0.0750 - accuracy: 0.9804 - val_loss: 0.3268 - val_accuracy: 0.9228\n",
            "Epoch 24/30\n",
            "57/57 [==============================] - 0s 4ms/step - loss: 0.0706 - accuracy: 0.9820 - val_loss: 0.3288 - val_accuracy: 0.9238\n",
            "Epoch 25/30\n",
            "57/57 [==============================] - 0s 4ms/step - loss: 0.0685 - accuracy: 0.9830 - val_loss: 0.3288 - val_accuracy: 0.9263\n",
            "Epoch 26/30\n",
            "57/57 [==============================] - 0s 4ms/step - loss: 0.0654 - accuracy: 0.9842 - val_loss: 0.3326 - val_accuracy: 0.9238\n",
            "Epoch 27/30\n",
            "57/57 [==============================] - 0s 5ms/step - loss: 0.0629 - accuracy: 0.9845 - val_loss: 0.3300 - val_accuracy: 0.9258\n",
            "Epoch 28/30\n",
            "57/57 [==============================] - 0s 4ms/step - loss: 0.0611 - accuracy: 0.9845 - val_loss: 0.3343 - val_accuracy: 0.9228\n",
            "Epoch 29/30\n",
            "57/57 [==============================] - 0s 4ms/step - loss: 0.0574 - accuracy: 0.9870 - val_loss: 0.3445 - val_accuracy: 0.9238\n",
            "Epoch 30/30\n",
            "57/57 [==============================] - 0s 4ms/step - loss: 0.0558 - accuracy: 0.9861 - val_loss: 0.3346 - val_accuracy: 0.9253\n"
          ]
        },
        {
          "data": {
            "text/plain": [
              "<keras.callbacks.History at 0x7f65b1f419a0>"
            ]
          },
          "execution_count": 70,
          "metadata": {},
          "output_type": "execute_result"
        }
      ],
      "source": [
        "batch_size = 128\n",
        "epochs = 30\n",
        "model.fit(x_train_final, y_train_cat,\n",
        "          batch_size= batch_size ,\n",
        "          epochs=epochs, verbose= 1,\n",
        "          validation_data=(x_test_final,y_test_cat))"
      ]
    },
    {
      "cell_type": "code",
      "execution_count": 88,
      "metadata": {
        "colab": {
          "base_uri": "https://localhost:8080/",
          "height": 109
        },
        "id": "E4giMOOnR26J",
        "outputId": "1358758f-7a8b-479c-d4b2-95b71776f90b"
      },
      "outputs": [
        {
          "data": {
            "text/html": [
              "\n",
              "     <input type=\"file\" id=\"files-8192b33c-5893-49ae-8dfc-633d8a1cbe52\" name=\"files[]\" multiple disabled\n",
              "        style=\"border:none\" />\n",
              "     <output id=\"result-8192b33c-5893-49ae-8dfc-633d8a1cbe52\">\n",
              "      Upload widget is only available when the cell has been executed in the\n",
              "      current browser session. Please rerun this cell to enable.\n",
              "      </output>\n",
              "      <script>// Copyright 2017 Google LLC\n",
              "//\n",
              "// Licensed under the Apache License, Version 2.0 (the \"License\");\n",
              "// you may not use this file except in compliance with the License.\n",
              "// You may obtain a copy of the License at\n",
              "//\n",
              "//      http://www.apache.org/licenses/LICENSE-2.0\n",
              "//\n",
              "// Unless required by applicable law or agreed to in writing, software\n",
              "// distributed under the License is distributed on an \"AS IS\" BASIS,\n",
              "// WITHOUT WARRANTIES OR CONDITIONS OF ANY KIND, either express or implied.\n",
              "// See the License for the specific language governing permissions and\n",
              "// limitations under the License.\n",
              "\n",
              "/**\n",
              " * @fileoverview Helpers for google.colab Python module.\n",
              " */\n",
              "(function(scope) {\n",
              "function span(text, styleAttributes = {}) {\n",
              "  const element = document.createElement('span');\n",
              "  element.textContent = text;\n",
              "  for (const key of Object.keys(styleAttributes)) {\n",
              "    element.style[key] = styleAttributes[key];\n",
              "  }\n",
              "  return element;\n",
              "}\n",
              "\n",
              "// Max number of bytes which will be uploaded at a time.\n",
              "const MAX_PAYLOAD_SIZE = 100 * 1024;\n",
              "\n",
              "function _uploadFiles(inputId, outputId) {\n",
              "  const steps = uploadFilesStep(inputId, outputId);\n",
              "  const outputElement = document.getElementById(outputId);\n",
              "  // Cache steps on the outputElement to make it available for the next call\n",
              "  // to uploadFilesContinue from Python.\n",
              "  outputElement.steps = steps;\n",
              "\n",
              "  return _uploadFilesContinue(outputId);\n",
              "}\n",
              "\n",
              "// This is roughly an async generator (not supported in the browser yet),\n",
              "// where there are multiple asynchronous steps and the Python side is going\n",
              "// to poll for completion of each step.\n",
              "// This uses a Promise to block the python side on completion of each step,\n",
              "// then passes the result of the previous step as the input to the next step.\n",
              "function _uploadFilesContinue(outputId) {\n",
              "  const outputElement = document.getElementById(outputId);\n",
              "  const steps = outputElement.steps;\n",
              "\n",
              "  const next = steps.next(outputElement.lastPromiseValue);\n",
              "  return Promise.resolve(next.value.promise).then((value) => {\n",
              "    // Cache the last promise value to make it available to the next\n",
              "    // step of the generator.\n",
              "    outputElement.lastPromiseValue = value;\n",
              "    return next.value.response;\n",
              "  });\n",
              "}\n",
              "\n",
              "/**\n",
              " * Generator function which is called between each async step of the upload\n",
              " * process.\n",
              " * @param {string} inputId Element ID of the input file picker element.\n",
              " * @param {string} outputId Element ID of the output display.\n",
              " * @return {!Iterable<!Object>} Iterable of next steps.\n",
              " */\n",
              "function* uploadFilesStep(inputId, outputId) {\n",
              "  const inputElement = document.getElementById(inputId);\n",
              "  inputElement.disabled = false;\n",
              "\n",
              "  const outputElement = document.getElementById(outputId);\n",
              "  outputElement.innerHTML = '';\n",
              "\n",
              "  const pickedPromise = new Promise((resolve) => {\n",
              "    inputElement.addEventListener('change', (e) => {\n",
              "      resolve(e.target.files);\n",
              "    });\n",
              "  });\n",
              "\n",
              "  const cancel = document.createElement('button');\n",
              "  inputElement.parentElement.appendChild(cancel);\n",
              "  cancel.textContent = 'Cancel upload';\n",
              "  const cancelPromise = new Promise((resolve) => {\n",
              "    cancel.onclick = () => {\n",
              "      resolve(null);\n",
              "    };\n",
              "  });\n",
              "\n",
              "  // Wait for the user to pick the files.\n",
              "  const files = yield {\n",
              "    promise: Promise.race([pickedPromise, cancelPromise]),\n",
              "    response: {\n",
              "      action: 'starting',\n",
              "    }\n",
              "  };\n",
              "\n",
              "  cancel.remove();\n",
              "\n",
              "  // Disable the input element since further picks are not allowed.\n",
              "  inputElement.disabled = true;\n",
              "\n",
              "  if (!files) {\n",
              "    return {\n",
              "      response: {\n",
              "        action: 'complete',\n",
              "      }\n",
              "    };\n",
              "  }\n",
              "\n",
              "  for (const file of files) {\n",
              "    const li = document.createElement('li');\n",
              "    li.append(span(file.name, {fontWeight: 'bold'}));\n",
              "    li.append(span(\n",
              "        `(${file.type || 'n/a'}) - ${file.size} bytes, ` +\n",
              "        `last modified: ${\n",
              "            file.lastModifiedDate ? file.lastModifiedDate.toLocaleDateString() :\n",
              "                                    'n/a'} - `));\n",
              "    const percent = span('0% done');\n",
              "    li.appendChild(percent);\n",
              "\n",
              "    outputElement.appendChild(li);\n",
              "\n",
              "    const fileDataPromise = new Promise((resolve) => {\n",
              "      const reader = new FileReader();\n",
              "      reader.onload = (e) => {\n",
              "        resolve(e.target.result);\n",
              "      };\n",
              "      reader.readAsArrayBuffer(file);\n",
              "    });\n",
              "    // Wait for the data to be ready.\n",
              "    let fileData = yield {\n",
              "      promise: fileDataPromise,\n",
              "      response: {\n",
              "        action: 'continue',\n",
              "      }\n",
              "    };\n",
              "\n",
              "    // Use a chunked sending to avoid message size limits. See b/62115660.\n",
              "    let position = 0;\n",
              "    do {\n",
              "      const length = Math.min(fileData.byteLength - position, MAX_PAYLOAD_SIZE);\n",
              "      const chunk = new Uint8Array(fileData, position, length);\n",
              "      position += length;\n",
              "\n",
              "      const base64 = btoa(String.fromCharCode.apply(null, chunk));\n",
              "      yield {\n",
              "        response: {\n",
              "          action: 'append',\n",
              "          file: file.name,\n",
              "          data: base64,\n",
              "        },\n",
              "      };\n",
              "\n",
              "      let percentDone = fileData.byteLength === 0 ?\n",
              "          100 :\n",
              "          Math.round((position / fileData.byteLength) * 100);\n",
              "      percent.textContent = `${percentDone}% done`;\n",
              "\n",
              "    } while (position < fileData.byteLength);\n",
              "  }\n",
              "\n",
              "  // All done.\n",
              "  yield {\n",
              "    response: {\n",
              "      action: 'complete',\n",
              "    }\n",
              "  };\n",
              "}\n",
              "\n",
              "scope.google = scope.google || {};\n",
              "scope.google.colab = scope.google.colab || {};\n",
              "scope.google.colab._files = {\n",
              "  _uploadFiles,\n",
              "  _uploadFilesContinue,\n",
              "};\n",
              "})(self);\n",
              "</script> "
            ],
            "text/plain": [
              "<IPython.core.display.HTML object>"
            ]
          },
          "metadata": {},
          "output_type": "display_data"
        },
        {
          "name": "stdout",
          "output_type": "stream",
          "text": [
            "Saving 9_1859.jpg to 9_1859.jpg\n",
            "1/1 [==============================] - 0s 17ms/step\n",
            "9\n"
          ]
        }
      ],
      "source": [
        "import numpy as np\n",
        "from google.colab import files\n",
        "import keras.utils as image\n",
        "\n",
        "uploaded = files.upload()\n",
        "\n",
        "for fn in uploaded.keys():\n",
        "    # predicting images\n",
        "    path = '/content/' + fn\n",
        "    img = image.load_img(path, target_size=(16,16))\n",
        "    x = image.img_to_array(img)\n",
        "    x = cv2.cvtColor(x, cv2.COLOR_RGB2GRAY)\n",
        "    x = x.reshape(16*16) \n",
        "    x = np.expand_dims(x, axis=0) / 255.\n",
        "    classes = model.predict(x, batch_size=10)\n",
        "    print(np.argmax(classes))"
      ]
    }
  ],
  "metadata": {
    "accelerator": "GPU",
    "colab": {
      "gpuType": "T4",
      "provenance": []
    },
    "gpuClass": "standard",
    "kernelspec": {
      "display_name": "Python 3",
      "name": "python3"
    },
    "language_info": {
      "name": "python"
    }
  },
  "nbformat": 4,
  "nbformat_minor": 0
}
